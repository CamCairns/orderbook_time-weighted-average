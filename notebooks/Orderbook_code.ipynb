{
 "cells": [
  {
   "cell_type": "code",
   "execution_count": 258,
   "metadata": {
    "collapsed": true
   },
   "outputs": [],
   "source": [
    "import pandas as pd\n",
    "import numpy as np"
   ]
  },
  {
   "cell_type": "markdown",
   "metadata": {},
   "source": [
    "## Attempt 1"
   ]
  },
  {
   "cell_type": "markdown",
   "metadata": {},
   "source": [
    "My intial code attempt. Quite inefficent as the dataframe is iterated over each time and a new slightly large mask created. Also, the entire text file needs to be stroed in memory, much better to loop over lines and store only those I's that don't have corresponding E's"
   ]
  },
  {
   "cell_type": "code",
   "execution_count": 313,
   "metadata": {
    "collapsed": false
   },
   "outputs": [
    {
     "data": {
      "text/html": [
       "<div>\n",
       "<table border=\"1\" class=\"dataframe\">\n",
       "  <thead>\n",
       "    <tr style=\"text-align: right;\">\n",
       "      <th></th>\n",
       "      <th>id</th>\n",
       "      <th>price</th>\n",
       "      <th>type</th>\n",
       "      <th>high</th>\n",
       "    </tr>\n",
       "  </thead>\n",
       "  <tbody>\n",
       "    <tr>\n",
       "      <th>1000</th>\n",
       "      <td>100</td>\n",
       "      <td>10</td>\n",
       "      <td>I</td>\n",
       "      <td>NaN</td>\n",
       "    </tr>\n",
       "    <tr>\n",
       "      <th>2000</th>\n",
       "      <td>101</td>\n",
       "      <td>13</td>\n",
       "      <td>I</td>\n",
       "      <td>NaN</td>\n",
       "    </tr>\n",
       "    <tr>\n",
       "      <th>2200</th>\n",
       "      <td>102</td>\n",
       "      <td>13</td>\n",
       "      <td>I</td>\n",
       "      <td>NaN</td>\n",
       "    </tr>\n",
       "    <tr>\n",
       "      <th>2400</th>\n",
       "      <td>101</td>\n",
       "      <td>NaN</td>\n",
       "      <td>E</td>\n",
       "      <td>NaN</td>\n",
       "    </tr>\n",
       "    <tr>\n",
       "      <th>2500</th>\n",
       "      <td>102</td>\n",
       "      <td>NaN</td>\n",
       "      <td>E</td>\n",
       "      <td>NaN</td>\n",
       "    </tr>\n",
       "    <tr>\n",
       "      <th>4000</th>\n",
       "      <td>100</td>\n",
       "      <td>NaN</td>\n",
       "      <td>E</td>\n",
       "      <td>NaN</td>\n",
       "    </tr>\n",
       "  </tbody>\n",
       "</table>\n",
       "</div>"
      ],
      "text/plain": [
       "       id  price type  high\n",
       "1000  100     10    I   NaN\n",
       "2000  101     13    I   NaN\n",
       "2200  102     13    I   NaN\n",
       "2400  101    NaN    E   NaN\n",
       "2500  102    NaN    E   NaN\n",
       "4000  100    NaN    E   NaN"
      ]
     },
     "execution_count": 313,
     "metadata": {},
     "output_type": "execute_result"
    }
   ],
   "source": [
    "times = np.array([1000,2000,2200,2400,2500,4000])\n",
    "d = {'type':['I','I','I','E','E','E'],'id':[100,101,102,101,102,100],'price':[10.0,13.0,13.0,np.nan,np.nan,np.nan]}\n",
    "test_data = pd.DataFrame(data=d,index=times)\n",
    "test_data['high'] = np.nan\n",
    "test_data"
   ]
  },
  {
   "cell_type": "code",
   "execution_count": 311,
   "metadata": {
    "collapsed": false
   },
   "outputs": [
    {
     "name": "stdout",
     "output_type": "stream",
     "text": [
      "1000    10\n",
      "Name: price, dtype: float64\n",
      "10.0\n",
      "\n",
      "1000    10\n",
      "2000    13\n",
      "Name: price, dtype: float64\n",
      "13.0\n",
      "\n",
      "1000    10\n",
      "2000    13\n",
      "2200    13\n",
      "Name: price, dtype: float64\n",
      "13.0\n",
      "\n",
      "1000    10\n",
      "2200    13\n",
      "Name: price, dtype: float64\n",
      "13.0\n",
      "\n",
      "1000    10\n",
      "Name: price, dtype: float64\n",
      "10.0\n",
      "\n",
      "Series([], Name: price, dtype: float64)\n",
      "nan\n",
      "\n"
     ]
    },
    {
     "data": {
      "text/plain": [
       "10.5"
      ]
     },
     "execution_count": 311,
     "metadata": {},
     "output_type": "execute_result"
    }
   ],
   "source": [
    "for i in range(test_data.shape[0]):\n",
    "    mask = test_data.iloc[:i+1,:].groupby('id')['id'].transform('count')==1\n",
    "    \n",
    "    print test_data.iloc[:i+1,:][mask]['price']\n",
    "    print test_data.iloc[:i+1,:][mask]['price'].max()\n",
    "    print \n",
    "    test_data['high'].iloc[i] = test_data.iloc[:i+1,:][mask]['price'].max()\n",
    "\n",
    "delta_t = times[1:] - times[:-1]\n",
    "np.nansum(delta_t*test_data.high.values[:-1])/sum(delta_t)\n",
    "    "
   ]
  },
  {
   "cell_type": "markdown",
   "metadata": {},
   "source": [
    "## Attempt 2"
   ]
  },
  {
   "cell_type": "code",
   "execution_count": null,
   "metadata": {
    "collapsed": true
   },
   "outputs": [],
   "source": [
    "import os\n",
    "import numpy as np"
   ]
  },
  {
   "cell_type": "code",
   "execution_count": null,
   "metadata": {
    "collapsed": true
   },
   "outputs": [],
   "source": [
    "class InsertEntry():\n",
    "    def __init__(self, id_num, price):\n",
    "        self.id_num = id_num\n",
    "        self.price = price\n",
    "    \n",
    "    def __str__(self):\n",
    "        return str([self.id_num, self.price])"
   ]
  },
  {
   "cell_type": "code",
   "execution_count": null,
   "metadata": {
    "collapsed": true
   },
   "outputs": [],
   "source": [
    "entry1 = InsertEntry(1000,'I',101,10)\n",
    "entry2 = InsertEntry(2000,'I',102,13)\n",
    "entry3 = InsertEntry(2200,'I',103,13)\n",
    "entry4 = InsertEntry(2500,'E',101,None)"
   ]
  },
  {
   "cell_type": "code",
   "execution_count": 55,
   "metadata": {
    "collapsed": true
   },
   "outputs": [],
   "source": [
    "orderbook = OrderBook()"
   ]
  },
  {
   "cell_type": "code",
   "execution_count": 56,
   "metadata": {
    "collapsed": false
   },
   "outputs": [],
   "source": [
    "orderbook.add_entry(entry1)\n",
    "orderbook.add_entry(entry2)\n",
    "orderbook.add_entry(entry3)"
   ]
  },
  {
   "cell_type": "code",
   "execution_count": 57,
   "metadata": {
    "collapsed": true
   },
   "outputs": [],
   "source": [
    "orderbook.add_entry(entry4)"
   ]
  },
  {
   "cell_type": "code",
   "execution_count": 315,
   "metadata": {
    "collapsed": true
   },
   "outputs": [],
   "source": [
    "def is_non_zero_file(fpath):  \n",
    "    return True if os.path.isfile(fpath) and os.path.getsize(fpath) > 0 else False"
   ]
  },
  {
   "cell_type": "code",
   "execution_count": 305,
   "metadata": {
    "collapsed": false
   },
   "outputs": [],
   "source": [
    "class OrderBook():\n",
    "    def __init__(self):\n",
    "        self.value = []\n",
    "        self.high_price = None\n",
    "        self.latest_time = 0\n",
    "        self.delta_t = 0\n",
    "        self.elapsed_time = 0\n",
    "        self.time_scaled_high_price = 0\n",
    "     \n",
    "    def __str__(self):\n",
    "         return str([str(i) for i in self.value])\n",
    "        \n",
    "    def insert(self,entry):\n",
    "        self.value.append(entry)\n",
    "    \n",
    "    def erase(self,id_num):\n",
    "        for i, o in enumerate(self.value):\n",
    "            if o.id_num == id_num:\n",
    "                del self.value[i]\n",
    "                break\n",
    "\n",
    "    def get_high_price(self):\n",
    "        try:\n",
    "            self.high_price = max([entry.price for entry in self.value if len(self.value)>0])\n",
    "        except ValueError: # catches case when orderbook is empty, sets high value to NaN (as requested)\n",
    "            self.high_price = np.nan\n",
    "    \n",
    "    def update_elapsed_time(self):\n",
    "#         print 'before', self.elapsed_time\n",
    "        self.elapsed_time = self.elapsed_time + self.delta_t\n",
    "#         print 'afer', self.elapsed_time\n",
    "        \n",
    "    def update_time_scaled_high_price(self):\n",
    "        self.time_scaled_high_price = self.time_scaled_high_price + self.high_price*self.delta_t\n",
    "        \n",
    "#     def get_positions(list, item):\n",
    "#         return [(i, sublist.index(item)) for i, sublist in enumerate(list) if item in sublist]\n"
   ]
  },
  {
   "cell_type": "code",
   "execution_count": 325,
   "metadata": {
    "collapsed": false
   },
   "outputs": [
    {
     "name": "stdout",
     "output_type": "stream",
     "text": [
      "[]\n",
      "nan\n",
      "[\"[1000, 'I', 100, 10.0]\"]\n",
      "10.0\n",
      "[\"[1000, 'I', 100, 10.0]\", \"[2000, 'I', 101, 13.0]\"]\n",
      "13.0\n",
      "[\"[1000, 'I', 100, 10.0]\", \"[2000, 'I', 101, 13.0]\", \"[2200, 'I', 102, 13.0]\"]\n",
      "13.0\n",
      "[\"[1000, 'I', 100, 10.0]\", \"[2200, 'I', 102, 13.0]\"]\n",
      "13.0\n",
      "[\"[1000, 'I', 100, 10.0]\"]\n",
      "10.0\n",
      "[]\n",
      "nan\n",
      "[\"[5000, 'I', 103, 9.0]\"]\n",
      "9.0\n",
      "The time-weighted high price is 9.9\n",
      "49500.0\n",
      "5000.0\n"
     ]
    }
   ],
   "source": [
    "if __name__ == \"__main__\":\n",
    "    orderbook = OrderBook()\n",
    "    file_path = '/Users/camcairns/Dropbox/py_modules/data_science_projects/OxAM/test_data.txt'\n",
    "    if is_non_zero_file(file_path):\n",
    "        with open(file_path) as f:\n",
    "            for line in f:\n",
    "                new_line = line.split()\n",
    "                orderbook.delta_t = float(new_line[0]) - orderbook.latest_time\n",
    "                orderbook.latest_time = float(new_line[0])\n",
    "                orderbook.get_high_price()\n",
    "                print orderbook.high_price\n",
    "                if ~np.isnan(orderbook.high_price):\n",
    "                    orderbook.update_elapsed_time()\n",
    "                    orderbook.update_time_scaled_high_price()\n",
    "                else:\n",
    "                    pass\n",
    "                if new_line[1] == 'I':\n",
    "                    entry = InsertEntry(int(new_line[0]),str(new_line[1]),int(new_line[2]),float(new_line[3]))\n",
    "                    orderbook.insert(entry)\n",
    "                else:\n",
    "                    orderbook.erase(int(new_line[2]))\n",
    "            print 'The time-weighted high price is', orderbook.time_scaled_high_price/orderbook.elapsed_time\n",
    "            print orderbook.time_scaled_high_price\n",
    "            print orderbook.elapsed_time\n",
    "    else:\n",
    "        print 'ASCII text file is empty! No data to compute time weighted high price.'\n",
    "        "
   ]
  },
  {
   "cell_type": "code",
   "execution_count": 360,
   "metadata": {
    "collapsed": true
   },
   "outputs": [],
   "source": [
    "import pandas as pd"
   ]
  },
  {
   "cell_type": "code",
   "execution_count": 510,
   "metadata": {
    "collapsed": false
   },
   "outputs": [],
   "source": [
    "df = pd.read_csv('/Users/camcairns/Dropbox/py_modules/data_science_projects/OxAM/generated_data_1million_orders.txt',sep=' ')"
   ]
  },
  {
   "cell_type": "code",
   "execution_count": 512,
   "metadata": {
    "collapsed": false
   },
   "outputs": [
    {
     "data": {
      "text/plain": [
       "(1999999, 4)"
      ]
     },
     "execution_count": 512,
     "metadata": {},
     "output_type": "execute_result"
    }
   ],
   "source": [
    "df.shape"
   ]
  },
  {
   "cell_type": "code",
   "execution_count": 362,
   "metadata": {
    "collapsed": false
   },
   "outputs": [
    {
     "data": {
      "text/plain": [
       "(199999, 1)"
      ]
     },
     "execution_count": 362,
     "metadata": {},
     "output_type": "execute_result"
    }
   ],
   "source": [
    "df.shape"
   ]
  },
  {
   "cell_type": "code",
   "execution_count": 516,
   "metadata": {
    "collapsed": false
   },
   "outputs": [
    {
     "data": {
      "text/plain": [
       "9.916666666666666"
      ]
     },
     "execution_count": 516,
     "metadata": {},
     "output_type": "execute_result"
    }
   ],
   "source": [
    "(10*1000+13*500+10*1500+9*2000+10*1000.)/(1000+500+1500+2000+1000.)"
   ]
  },
  {
   "cell_type": "code",
   "execution_count": 526,
   "metadata": {
    "collapsed": false
   },
   "outputs": [
    {
     "data": {
      "text/plain": [
       "False"
      ]
     },
     "execution_count": 526,
     "metadata": {},
     "output_type": "execute_result"
    }
   ],
   "source": [
    "not math.isnan(float('NaN'))"
   ]
  },
  {
   "cell_type": "markdown",
   "metadata": {},
   "source": [
    "## Attempt 3"
   ]
  },
  {
   "cell_type": "code",
   "execution_count": 494,
   "metadata": {
    "collapsed": false
   },
   "outputs": [
    {
     "name": "stdout",
     "output_type": "stream",
     "text": [
      "The line_profiler extension is already loaded. To reload it, use:\n",
      "  %reload_ext line_profiler\n"
     ]
    }
   ],
   "source": [
    "%load_ext line_profiler"
   ]
  },
  {
   "cell_type": "code",
   "execution_count": 495,
   "metadata": {
    "collapsed": true
   },
   "outputs": [],
   "source": [
    "def is_non_zero_file(fpath):  \n",
    "    return True if os.path.isfile(fpath) and os.path.getsize(fpath) > 0 else False"
   ]
  },
  {
   "cell_type": "code",
   "execution_count": 496,
   "metadata": {
    "collapsed": false
   },
   "outputs": [],
   "source": [
    "def unpack_new_line(line):\n",
    "    if line.split()[1] == 'I':\n",
    "        new_timestamp, new_flag, new_id_num, new_price = line.split()\n",
    "        new_price = float(new_price)\n",
    "    else:\n",
    "        new_timestamp, new_flag, new_id_num = line.split()\n",
    "        new_price = None\n",
    "    new_timestamp = int(new_timestamp)\n",
    "    new_id_num = int(new_id_num)\n",
    "    return new_timestamp, new_flag, new_id_num, new_price"
   ]
  },
  {
   "cell_type": "code",
   "execution_count": 497,
   "metadata": {
    "collapsed": false
   },
   "outputs": [],
   "source": [
    "class OrderBook():\n",
    "    def __init__(self):\n",
    "        self.dictionary = {}\n",
    "        self.high_price = None\n",
    "        self.latest_time = 0\n",
    "        self.delta_t = 0\n",
    "        self.elapsed_time = 0\n",
    "        self.time_scaled_high_price = 0\n",
    "        self.recalculate_max_high_flag = True\n",
    "     \n",
    "    def __str__(self):\n",
    "         return str(self.dictionary)\n",
    "        \n",
    "    def insert(self,id_num,price):\n",
    "        self.recalculate_max_high_flag = True if (price > self.high_price) or (np.isnan(self.high_price)) else False\n",
    "        self.dictionary[id_num] = price\n",
    "    \n",
    "    def erase(self,id_num):\n",
    "        self.recalculate_max_high_flag = True if self.dictionary[id_num] == self.high_price else False\n",
    "        del self.dictionary[id_num]\n",
    "\n",
    "    def get_high_price(self):\n",
    "        if self.recalculate_max_high_flag:\n",
    "            try:\n",
    "                self.high_price = max(self.dictionary.values())\n",
    "            except ValueError: # catches case when orderbook is empty, sets high value to NaN (as requested)\n",
    "                self.high_price = np.nan\n",
    "        else:\n",
    "            pass\n",
    "    \n",
    "    def update_elapsed_time(self):\n",
    "        self.elapsed_time = self.elapsed_time + self.delta_t\n",
    "        \n",
    "    def update_time_scaled_high_price(self):\n",
    "        self.time_scaled_high_price = self.time_scaled_high_price + self.high_price*self.delta_t"
   ]
  },
  {
   "cell_type": "code",
   "execution_count": 498,
   "metadata": {
    "collapsed": false
   },
   "outputs": [],
   "source": [
    "def find_time_average_high():\n",
    "    orderbook = OrderBook()\n",
    "    file_path = '/Users/camcairns/Dropbox/py_modules/data_science_projects/OxAM/generated_data_1million_orders.txt'\n",
    "    if is_non_zero_file(file_path):\n",
    "        with open(file_path) as f:\n",
    "            for line in f:\n",
    "                new_timestamp, new_flag, new_id_num, new_price = unpack_new_line(line)\n",
    "                orderbook.delta_t = new_timestamp - orderbook.latest_time\n",
    "                orderbook.latest_time = new_timestamp\n",
    "                orderbook.get_high_price()\n",
    "#                 print orderbook.high_price\n",
    "                if np.isnan(orderbook.high_price):\n",
    "                   pass\n",
    "                else:\n",
    "                    orderbook.update_elapsed_time()\n",
    "                    orderbook.update_time_scaled_high_price()\n",
    "                if new_flag == 'I':\n",
    "                    orderbook.insert(new_id_num,new_price)\n",
    "                else:\n",
    "                    orderbook.erase(new_id_num)\n",
    "            print 'The time-weighted high price is', orderbook.time_scaled_high_price/orderbook.elapsed_time\n",
    "            print orderbook.time_scaled_high_price\n",
    "            print orderbook.elapsed_time\n",
    "    else:\n",
    "        print 'ASCII text file is empty! No data to compute time weighted high price.'\n",
    "        "
   ]
  },
  {
   "cell_type": "code",
   "execution_count": 499,
   "metadata": {
    "collapsed": false
   },
   "outputs": [
    {
     "name": "stdout",
     "output_type": "stream",
     "text": [
      "The time-weighted high price is 19.9996919594\n",
      "1.00008264566e+11\n",
      "5000490246\n",
      "\n",
      "*** Profile printout saved to text file u'linebreak_results.txt'. \n"
     ]
    }
   ],
   "source": [
    "%lprun -s -f find_time_average_high -T linebreak_results.txt find_time_average_high()"
   ]
  },
  {
   "cell_type": "markdown",
   "metadata": {},
   "source": [
    "# Attempt 4"
   ]
  },
  {
   "cell_type": "code",
   "execution_count": 500,
   "metadata": {
    "collapsed": true
   },
   "outputs": [],
   "source": [
    "import numpy as np\n",
    "import os\n",
    "\n",
    "def is_non_zero_file(fpath):  \n",
    "    return True if os.path.isfile(fpath) and os.path.getsize(fpath) > 0 else False\n",
    "\n",
    "class OrderBook():\n",
    "    def __init__(self):\n",
    "        self.ledger = {}\n",
    "        self.high_price = None\n",
    "        self.latest_time = 0\n",
    "        self.delta_t = 0\n",
    "        self.elapsed_time = 0\n",
    "        self.time_scaled_high_price = 0\n",
    "        self.recalculate_max_high_flag = True\n",
    "     \n",
    "    def __str__(self):\n",
    "         return str(self.ledger)\n",
    "        \n",
    "    def insert(self,id_num,price):\n",
    "        self.recalculate_max_high_flag = True if (price > self.high_price) or (np.isnan(self.high_price)) else False\n",
    "        self.ledger[id_num] = price\n",
    "    \n",
    "    def erase(self,id_num):\n",
    "        self.recalculate_max_high_flag = True if self.ledger[id_num] == self.high_price else False\n",
    "        del self.ledger[id_num]\n",
    "\n",
    "    def get_high_price(self):\n",
    "        if self.recalculate_max_high_flag:\n",
    "            try:\n",
    "                self.high_price = max(self.ledger.values())\n",
    "            except ValueError: # catches case when orderbook is empty, sets high value to NaN (as requested)\n",
    "                self.high_price = np.nan\n",
    "        else:\n",
    "            pass\n",
    "    \n",
    "    def update_elapsed_time(self):\n",
    "        self.elapsed_time = self.elapsed_time + self.delta_t\n",
    "        \n",
    "    def update_time_scaled_high_price(self):\n",
    "        self.time_scaled_high_price = self.time_scaled_high_price + self.high_price*self.delta_t\n"
   ]
  },
  {
   "cell_type": "code",
   "execution_count": 501,
   "metadata": {
    "collapsed": true
   },
   "outputs": [],
   "source": [
    "def find_time_average_high():\n",
    "    orderbook = OrderBook()\n",
    "    file_path = '/Users/camcairns/Dropbox/py_modules/data_science_projects/OxAM/generated_data_1million_orders.txt'\n",
    "    if is_non_zero_file(file_path):\n",
    "        with open(file_path) as f:\n",
    "            for line in f:\n",
    "                new_line = line.split()\n",
    "                orderbook.delta_t = float(new_line[0]) - orderbook.latest_time\n",
    "                orderbook.latest_time = float(new_line[0])\n",
    "                orderbook.get_high_price()\n",
    "#                 print orderbook.high_price\n",
    "                if np.isnan(orderbook.high_price):\n",
    "                   pass\n",
    "                else:\n",
    "                    orderbook.update_elapsed_time()\n",
    "                    orderbook.update_time_scaled_high_price()\n",
    "                if new_line[1] == 'I':\n",
    "                    orderbook.insert(int(new_line[2]),float(new_line[3]))\n",
    "                else:\n",
    "                    orderbook.erase(int(new_line[2]))\n",
    "            print 'The time-weighted high price is', orderbook.time_scaled_high_price/orderbook.elapsed_time\n",
    "            print orderbook.time_scaled_high_price\n",
    "            print orderbook.elapsed_time\n",
    "    else:\n",
    "        print 'ASCII text file is empty! No data to compute time weighted high price.'\n"
   ]
  },
  {
   "cell_type": "code",
   "execution_count": 502,
   "metadata": {
    "collapsed": false
   },
   "outputs": [
    {
     "name": "stdout",
     "output_type": "stream",
     "text": [
      "The time-weighted high price is 19.9996919594\n",
      "1.00008264566e+11\n",
      "5000490246.0\n",
      "\n",
      "*** Profile printout saved to text file u'no_linebreak_results.txt'. \n"
     ]
    }
   ],
   "source": [
    "%lprun -s -f find_time_average_high -T no_linebreak_results.txt find_time_average_high()"
   ]
  },
  {
   "cell_type": "code",
   "execution_count": 504,
   "metadata": {
    "collapsed": false
   },
   "outputs": [
    {
     "data": {
      "text/plain": [
       "0.8372093023255814"
      ]
     },
     "execution_count": 504,
     "metadata": {},
     "output_type": "execute_result"
    }
   ],
   "source": [
    "36/43."
   ]
  },
  {
   "cell_type": "code",
   "execution_count": 65,
   "metadata": {
    "collapsed": false
   },
   "outputs": [
    {
     "name": "stdout",
     "output_type": "stream",
     "text": [
      "foo\n"
     ]
    }
   ],
   "source": [
    "if A:\n",
    "    print 'foo'\n",
    "else:\n",
    "    print 'bar'"
   ]
  },
  {
   "cell_type": "code",
   "execution_count": 3,
   "metadata": {
    "collapsed": false
   },
   "outputs": [
    {
     "name": "stdout",
     "output_type": "stream",
     "text": [
      "(2641.0, 0)\n",
      "(434.0, 17.486532275049022)\n",
      "(1439.0, 17.486532275049022)\n",
      "(4843.0, 18.931177707586937)\n",
      "(4434.0, 18.931177707586937)\n",
      "(711.0, 18.931177707586937)\n",
      "(3707.0, 18.931177707586937)\n",
      "(3003.0, 18.931177707586937)\n",
      "(461.0, 18.931177707586937)\n",
      "(2148.0, 18.931177707586937)\n",
      "(2622.0, 18.931177707586937)\n",
      "(4028.0, 18.931177707586937)\n",
      "(3802.0, 18.931177707586937)\n",
      "(1873.0, 18.931177707586937)\n",
      "(3046.0, 18.931177707586937)\n",
      "(406.0, 18.931177707586937)\n",
      "(2777.0, 18.931177707586937)\n",
      "(1028.0, 18.931177707586937)\n",
      "(1730.0, 18.931177707586937)\n",
      "(4957.0, 18.931177707586937)\n",
      "(4427.0, 19.39753830186035)\n",
      "(3966.0, 19.39753830186035)\n",
      "(1959.0, 19.39753830186035)\n",
      "(612.0, 19.39753830186035)\n",
      "(4013.0, 19.39753830186035)\n",
      "(2471.0, 19.39753830186035)\n",
      "(1180.0, 19.39753830186035)\n",
      "(4629.0, 19.39753830186035)\n",
      "(170.0, 19.58127923069857)\n",
      "(4317.0, 19.58127923069857)\n",
      "(661.0, 19.58127923069857)\n",
      "(2103.0, 19.58127923069857)\n",
      "(1937.0, 19.58127923069857)\n",
      "(2372.0, 19.58127923069857)\n",
      "(2270.0, 19.58127923069857)\n",
      "(965.0, 19.58127923069857)\n",
      "(779.0, 19.58127923069857)\n",
      "(423.0, 19.58127923069857)\n",
      "(2476.0, 19.58127923069857)\n",
      "(3932.0, 19.58127923069857)\n",
      "(3528.0, 19.58127923069857)\n",
      "(3501.0, 19.58127923069857)\n",
      "(2649.0, 19.58127923069857)\n",
      "(4373.0, 19.58127923069857)\n",
      "(4526.0, 19.58127923069857)\n",
      "(3506.0, 19.58127923069857)\n",
      "(440.0, 19.58127923069857)\n",
      "(543.0, 19.58127923069857)\n",
      "(4662.0, 19.58127923069857)\n",
      "(1450.0, 19.58127923069857)\n",
      "(1449.0, 19.58127923069857)\n",
      "(1249.0, 19.39753830186035)\n",
      "(3687.0, 19.39753830186035)\n",
      "(4400.0, 19.39753830186035)\n",
      "(1250.0, 19.39753830186035)\n",
      "(1592.0, 18.931177707586937)\n",
      "(1300.0, 18.931177707586937)\n",
      "(2998.0, 18.931177707586937)\n",
      "(1407.0, 18.931177707586937)\n",
      "(2851.0, 18.931177707586937)\n",
      "(2281.0, 18.931177707586937)\n",
      "(4040.0, 18.931177707586937)\n",
      "(1430.0, 19.32094243920985)\n",
      "(1936.0, 19.32094243920985)\n",
      "(2832.0, 19.32094243920985)\n",
      "(2976.0, 19.32094243920985)\n",
      "(1216.0, 19.32094243920985)\n",
      "(4306.0, 19.32094243920985)\n",
      "(1679.0, 18.931177707586937)\n",
      "(282.0, 18.931177707586937)\n",
      "(3856.0, 18.931177707586937)\n",
      "(1096.0, 18.931177707586937)\n",
      "(2967.0, 18.931177707586937)\n",
      "(404.0, 18.931177707586937)\n",
      "(486.0, 18.931177707586937)\n",
      "(1415.0, 18.931177707586937)\n",
      "(4063.0, 18.931177707586937)\n",
      "(2794.0, 18.931177707586937)\n",
      "(2509.0, 18.931177707586937)\n",
      "(1972.0, 18.931177707586937)\n",
      "(191.0, 18.931177707586937)\n",
      "(2571.0, 18.931177707586937)\n",
      "(2645.0, 18.931177707586937)\n",
      "(2037.0, 18.931177707586937)\n",
      "(1006.0, 18.931177707586937)\n",
      "(3275.0, 18.931177707586937)\n",
      "(1993.0, 18.931177707586937)\n",
      "(2155.0, 18.931177707586937)\n",
      "(3101.0, 18.931177707586937)\n",
      "(4056.0, 18.931177707586937)\n",
      "(2087.0, 18.931177707586937)\n",
      "(4955.0, 18.931177707586937)\n",
      "(3504.0, 18.931177707586937)\n",
      "(2924.0, 18.931177707586937)\n",
      "(3858.0, 18.931177707586937)\n",
      "(3653.0, 18.931177707586937)\n",
      "(4084.0, 18.931177707586937)\n",
      "(819.0, 18.931177707586937)\n",
      "(4113.0, 18.931177707586937)\n",
      "(2242.0, 18.931177707586937)\n",
      "(4870.0, 18.931177707586937)\n",
      "(4253.0, 18.931177707586937)\n",
      "(1530.0, 18.931177707586937)\n",
      "(2957.0, 18.931177707586937)\n",
      "(4099.0, 18.931177707586937)\n",
      "(2690.0, 18.931177707586937)\n",
      "(589.0, 18.931177707586937)\n",
      "(3022.0, 18.931177707586937)\n",
      "(491.0, 18.931177707586937)\n",
      "(3465.0, 18.931177707586937)\n",
      "(4211.0, 18.931177707586937)\n",
      "(3961.0, 18.931177707586937)\n",
      "(1823.0, 18.931177707586937)\n",
      "(405.0, 18.931177707586937)\n",
      "(32.0, 18.931177707586937)\n",
      "(596.0, 18.931177707586937)\n",
      "(4536.0, 18.931177707586937)\n",
      "(2745.0, 18.931177707586937)\n",
      "(4414.0, 18.931177707586937)\n",
      "(1911.0, 18.931177707586937)\n",
      "(3149.0, 18.931177707586937)\n",
      "(3504.0, 18.931177707586937)\n",
      "(312.0, 18.931177707586937)\n",
      "(3227.0, 18.931177707586937)\n",
      "(3414.0, 18.931177707586937)\n",
      "(3406.0, 18.931177707586937)\n",
      "(1194.0, 18.931177707586937)\n",
      "(3523.0, 18.931177707586937)\n",
      "(3905.0, 18.931177707586937)\n",
      "(3393.0, 18.931177707586937)\n",
      "(1765.0, 18.931177707586937)\n",
      "(1538.0, 18.931177707586937)\n",
      "(3008.0, 18.931177707586937)\n",
      "(4248.0, 18.931177707586937)\n",
      "(2440.0, 18.931177707586937)\n",
      "(2877.0, 18.931177707586937)\n",
      "(3698.0, 18.931177707586937)\n",
      "(1089.0, 18.931177707586937)\n",
      "(3912.0, 18.931177707586937)\n",
      "(1091.0, 18.931177707586937)\n",
      "(2681.0, 18.931177707586937)\n",
      "(3089.0, 18.931177707586937)\n",
      "(4456.0, 18.931177707586937)\n",
      "(3000.0, 18.931177707586937)\n",
      "(95.0, 18.931177707586937)\n",
      "(1743.0, 18.931177707586937)\n",
      "(1174.0, 18.931177707586937)\n",
      "(4329.0, 18.931177707586937)\n",
      "(290.0, 19.461100966406374)\n",
      "(587.0, 19.461100966406374)\n",
      "(4802.0, 19.461100966406374)\n",
      "(350.0, 19.461100966406374)\n",
      "(3928.0, 19.461100966406374)\n",
      "(198.0, 19.461100966406374)\n",
      "(2303.0, 19.461100966406374)\n",
      "(4340.0, 19.461100966406374)\n",
      "(930.0, 19.461100966406374)\n",
      "(1883.0, 19.461100966406374)\n",
      "(4669.0, 19.461100966406374)\n",
      "(1397.0, 17.892410499191847)\n",
      "(791.0, 17.892410499191847)\n",
      "(1064.0, 17.892410499191847)\n",
      "(2617.0, 17.892410499191847)\n",
      "(4847.0, 17.892410499191847)\n",
      "(3267.0, 17.892410499191847)\n",
      "(4714.0, 17.892410499191847)\n",
      "(4663.0, 17.892410499191847)\n",
      "(1586.0, 16.87773674558207)\n",
      "(2766.0, 16.87773674558207)\n",
      "(4832.0, 16.87773674558207)\n",
      "(465.0, 16.87773674558207)\n",
      "(2255.0, 16.87773674558207)\n",
      "(2864.0, 16.87773674558207)\n",
      "(4257.0, 16.87773674558207)\n",
      "(3213.0, 16.87773674558207)\n",
      "(197.0, 16.87773674558207)\n",
      "(3682.0, 16.87773674558207)\n",
      "(135.0, 16.87773674558207)\n",
      "(1357.0, 19.44949475011057)\n",
      "(268.0, 19.44949475011057)\n",
      "(69.0, 19.44949475011057)\n",
      "(1948.0, 19.44949475011057)\n",
      "(2478.0, 19.44949475011057)\n",
      "(2339.0, 19.44949475011057)\n",
      "(1908.0, 19.44949475011057)\n",
      "(201.0, 19.44949475011057)\n",
      "(633.0, 19.44949475011057)\n",
      "(746.0, 19.44949475011057)\n",
      "(3638.0, 19.44949475011057)\n",
      "(2459.0, 19.44949475011057)\n",
      "(2493.0, 19.44949475011057)\n",
      "(3172.0, 19.44949475011057)\n",
      "(26.0, 19.44949475011057)\n",
      "(933.0, 19.44949475011057)\n",
      "(199.0, 19.44949475011057)\n",
      "(4839.0, 19.44949475011057)\n",
      "(119.0, 19.44949475011057)\n",
      "(3801.0, 1.5860288784835097)\n",
      "(4186.0, 0)\n",
      "(4087.0, 11.836174724117667)\n",
      "18.7420454102\n"
     ]
    }
   ],
   "source": [
    "def get_positions(list, item):\n",
    "    return [(i, sublist.index(item)) for i, sublist in enumerate(list) if item in sublist]\n",
    "\n",
    "def get_max(list):\n",
    "    return [sublist[3] for i, sublist in enumerate(list) if len(sublist)>0]\n",
    "\n",
    "lst = []\n",
    "new_time = 0\n",
    "elapsed_time = 0\n",
    "time_weighted_high = 0\n",
    "with open('/Users/camcairns/Dropbox/py_modules/data_science_projects/OxAM/generated_data.txt') as f:\n",
    "    for line in f:\n",
    "        new_line = line.split()\n",
    "        delta_t =  float(new_line[0]) - new_time\n",
    "        new_time = float(new_line[0])\n",
    "        prices = [float(i[3]) for i in lst]\n",
    "        if prices:\n",
    "            high = max(prices)\n",
    "            elapsed_time = elapsed_time + delta_t\n",
    "        else:\n",
    "            high = 0 # handles cases where there are no orders in book (time does not contribute to elapsed time in this case)\n",
    "        time_weighted_high = time_weighted_high + high*delta_t\n",
    "        if new_line[1] == 'I':\n",
    "            lst.append(new_line)\n",
    "        elif new_line[1] == 'E':\n",
    "            del lst[get_positions(lst,new_line[2])[0][0]]\n",
    "\n",
    "    \n",
    "    time_average = time_weighted_high/elapsed_time\n",
    "    print time_average"
   ]
  },
  {
   "cell_type": "code",
   "execution_count": 345,
   "metadata": {
    "collapsed": true
   },
   "outputs": [],
   "source": [
    "class SomeClass:\n",
    "    def __init__(self):\n",
    "        self.xs = [['1','2','4','6'], ['7','0','1','4']]\n",
    "\n",
    "    def get_positions(self, target):\n",
    "        return [(i,e.index(target)) for i,e in enumerate(self.xs)]"
   ]
  },
  {
   "cell_type": "code",
   "execution_count": 348,
   "metadata": {
    "collapsed": false
   },
   "outputs": [
    {
     "data": {
      "text/plain": [
       "[(0, 0), (1, 2)]"
      ]
     },
     "execution_count": 348,
     "metadata": {},
     "output_type": "execute_result"
    }
   ],
   "source": [
    "model = SomeClass()\n",
    "model.get_positions('1')    # returns [(0,0), (1,2)]"
   ]
  },
  {
   "cell_type": "code",
   "execution_count": null,
   "metadata": {
    "collapsed": true
   },
   "outputs": [],
   "source": []
  },
  {
   "cell_type": "markdown",
   "metadata": {},
   "source": [
    "Problem 1: Write an iterator class reverse_iter, that takes a list and iterates it from the reverse direction. ::"
   ]
  },
  {
   "cell_type": "code",
   "execution_count": 72,
   "metadata": {
    "collapsed": true
   },
   "outputs": [],
   "source": [
    "class reverse_yrange:\n",
    "    def __init__(self, n):\n",
    "        self.i = n\n",
    "        self.n = 0\n",
    "\n",
    "    def __iter__(self):\n",
    "        return self\n",
    "\n",
    "    def next(self):\n",
    "        if self.i >= self.n:\n",
    "            i = self.i\n",
    "            self.i -= 1\n",
    "            return i\n",
    "        else:\n",
    "            raise StopIteration()"
   ]
  },
  {
   "cell_type": "code",
   "execution_count": 73,
   "metadata": {
    "collapsed": false
   },
   "outputs": [],
   "source": [
    "y = reverse_yrange(10)\n",
    "list(y)"
   ]
  },
  {
   "cell_type": "code",
   "execution_count": 75,
   "metadata": {
    "collapsed": true
   },
   "outputs": [],
   "source": [
    "def yrange(n):\n",
    "    i = 0\n",
    "    while i < n:\n",
    "        yield i\n",
    "        i += 1"
   ]
  },
  {
   "cell_type": "code",
   "execution_count": 77,
   "metadata": {
    "collapsed": false
   },
   "outputs": [],
   "source": [
    "y =yrange(10)"
   ]
  },
  {
   "cell_type": "code",
   "execution_count": 79,
   "metadata": {
    "collapsed": false
   },
   "outputs": [
    {
     "data": {
      "text/plain": [
       "[0, 1, 2, 3, 4, 5, 6, 7, 8, 9]"
      ]
     },
     "execution_count": 79,
     "metadata": {},
     "output_type": "execute_result"
    }
   ],
   "source": [
    "list(y)"
   ]
  },
  {
   "cell_type": "code",
   "execution_count": 81,
   "metadata": {
    "collapsed": false
   },
   "outputs": [],
   "source": [
    "def integers():\n",
    "    \"\"\"Infinite sequence of integers.\"\"\"\n",
    "    i = 1\n",
    "    while True:\n",
    "        yield i\n",
    "        i = i + 1\n",
    "\n",
    "def squares():\n",
    "    for i in integers():\n",
    "        yield i * i\n",
    "\n",
    "def take(n, seq):\n",
    "    \"\"\"Returns first n values from the given sequence.\"\"\"\n",
    "    seq = iter(seq)\n",
    "    result = []\n",
    "    try:\n",
    "        for i in range(n):\n",
    "            result.append(seq.next())\n",
    "    except StopIteration:\n",
    "        pass\n",
    "    return result"
   ]
  },
  {
   "cell_type": "code",
   "execution_count": 87,
   "metadata": {
    "collapsed": false
   },
   "outputs": [
    {
     "name": "stdout",
     "output_type": "stream",
     "text": [
      "[1, 4, 9, 16, 25]\n"
     ]
    }
   ],
   "source": [
    "print take(5, squares()) # prints [1, 4, 9, 16, 25]"
   ]
  },
  {
   "cell_type": "code",
   "execution_count": 90,
   "metadata": {
    "collapsed": false
   },
   "outputs": [
    {
     "data": {
      "text/plain": [
       "[(3, 4, 5),\n",
       " (6, 8, 10),\n",
       " (5, 12, 13),\n",
       " (9, 12, 15),\n",
       " (8, 15, 17),\n",
       " (12, 16, 20),\n",
       " (15, 20, 25),\n",
       " (7, 24, 25),\n",
       " (10, 24, 26),\n",
       " (20, 21, 29)]"
      ]
     },
     "execution_count": 90,
     "metadata": {},
     "output_type": "execute_result"
    }
   ],
   "source": [
    "pyt = ((x, y, z) for z in integers() for y in xrange(1, z) for x in range(1, y) if x*x + y*y == z*z)\n",
    "take(10, pyt)"
   ]
  },
  {
   "cell_type": "markdown",
   "metadata": {},
   "source": [
    "Problem 2: Write a program that takes one or more filenames as arguments and prints all the lines which are longer than 40 characters."
   ]
  },
  {
   "cell_type": "code",
   "execution_count": 109,
   "metadata": {
    "collapsed": true
   },
   "outputs": [],
   "source": [
    "import glob\n",
    "\n",
    "def readfiles(filenames):\n",
    "    for f in filenames:\n",
    "        for line in open(f):\n",
    "            yield line\n",
    "\n",
    "def grep(pattern, lines):\n",
    "    return (line for line in lines if pattern in lines)\n",
    "\n",
    "def line_len(n, lines):\n",
    "    return (line for line in lines if len(line)<n)\n",
    "\n",
    "def printlines(lines):\n",
    "    for line in lines:\n",
    "        print line,\n",
    "\n",
    "def main(n, filenames):\n",
    "    lines = readfiles(filenames)\n",
    "    lines = line_len(n, lines)\n",
    "    printlines(lines)"
   ]
  },
  {
   "cell_type": "code",
   "execution_count": 111,
   "metadata": {
    "collapsed": false
   },
   "outputs": [],
   "source": [
    "filenames = glob.glob('/Users/camcairns/Documents/war_poems/*.txt')"
   ]
  },
  {
   "cell_type": "code",
   "execution_count": 112,
   "metadata": {
    "collapsed": false
   },
   "outputs": [
    {
     "name": "stdout",
     "output_type": "stream",
     "text": [
      "In Flanders Fields, by John McRae\n",
      "\n",
      "In Flanders fields the poppies blow\n",
      "Between the crosses, row on row,\n",
      "That mark our place; and in the sky\n",
      "The larks, still bravely singing, fly\n",
      "Scarce heard amid the guns below.\n",
      "\n",
      "We are the Dead. Short days ago\n",
      "We lived, felt dawn, saw sunset glow,\n",
      "Loved and were loved, and now we lie\n",
      "In Flanders fields.\n",
      "\n",
      "Take up our quarrel with the foe:\n",
      "To you from failing hands we throw\n",
      "The torch; be yours to hold it high.\n",
      "If ye break faith with us who die\n",
      "In Flanders fields. Marching Men, by Marjorie Pickthall\n",
      "\n",
      "Under the level winter sky\n",
      "I saw a thousand Christs go by.\n",
      "They sang an idle song and free\n",
      "As they went up to calvary.\n",
      "\n",
      "Careless of eye and coarse of lip,\n",
      "They marched in holiest fellowship.\n",
      "\n",
      "They supped the sacrament of death.\n",
      "And for each one, far off, apart,\n",
      "Seven swords have rent a woman's heart. The Cenotaph, by Charlotte Mew\n",
      "\n",
      "Speaking so wistfully of other Springs\n",
      "To lovers - to mothers\n",
      "Here, too, lies he:\n",
      "Under the purple, the green, the red,\n",
      "Only, when all is done and said,\n",
      "Who'll sell, who'll buy\n",
      "(Will you or I\n",
      "The Soldier, by Rupert Brooke\n",
      "\n",
      "A pulse in the eternal mind, no less\n"
     ]
    }
   ],
   "source": [
    "main(40,filenames)"
   ]
  },
  {
   "cell_type": "markdown",
   "metadata": {},
   "source": [
    "Problem 3: Write a function findfiles that recursively descends the directory tree for the specified directory and generates paths of all the files in the tree."
   ]
  },
  {
   "cell_type": "code",
   "execution_count": 114,
   "metadata": {
    "collapsed": true
   },
   "outputs": [],
   "source": [
    "import os\n",
    "import sys\n",
    "\n",
    "rootdir = sys.argv[1]"
   ]
  },
  {
   "cell_type": "code",
   "execution_count": 121,
   "metadata": {
    "collapsed": false
   },
   "outputs": [
    {
     "name": "stdout",
     "output_type": "stream",
     "text": [
      "/Users/camcairns/Documents/war_poems/ consumes\n",
      "[]\n",
      "['.DS_Store', 'In_Flanders_Fields_John_McRae.txt', 'Marching_Men_Marjorie_Pickthall.txt', 'The_Cenotaph_Charlotte_Mew.txt', 'The_Soldier_Rupert_Brooke.txt']\n"
     ]
    }
   ],
   "source": [
    "import os\n",
    "from os.path import join, getsize\n",
    "for root, dirs, files in os.walk('/Users/camcairns/Documents/war_poems/'):\n",
    "    print root, \"consumes\"\n",
    "    print dirs\n",
    "    print files\n",
    "#     print sum(getsize(join(root, name)) for name in files),\n",
    "#     print \"bytes in\", len(files), \"non-directory files\"\n",
    "#     if 'CVS' in dirs:\n",
    "#         dirs.remove('CVS')  # don't visit CVS directories"
   ]
  },
  {
   "cell_type": "code",
   "execution_count": null,
   "metadata": {
    "collapsed": true
   },
   "outputs": [],
   "source": []
  }
 ],
 "metadata": {
  "kernelspec": {
   "display_name": "Python 2",
   "language": "python",
   "name": "python2"
  },
  "language_info": {
   "codemirror_mode": {
    "name": "ipython",
    "version": 2
   },
   "file_extension": ".py",
   "mimetype": "text/x-python",
   "name": "python",
   "nbconvert_exporter": "python",
   "pygments_lexer": "ipython2",
   "version": "2.7.6"
  }
 },
 "nbformat": 4,
 "nbformat_minor": 0
}
