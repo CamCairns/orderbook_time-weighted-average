{
 "cells": [
  {
   "cell_type": "code",
   "execution_count": 2,
   "metadata": {
    "collapsed": false
   },
   "outputs": [],
   "source": [
    "import numpy as np\n",
    "import pandas as pd "
   ]
  },
  {
   "cell_type": "code",
   "execution_count": 36,
   "metadata": {
    "collapsed": false
   },
   "outputs": [],
   "source": [
    "rows_list = []\n",
    "timestamp_list = []\n",
    "timestamp = 0\n",
    "for i in xrange(100):\n",
    "    price = 20*np.random.random_sample() # random price between 0 and 20\n",
    "    dictI = {'flag':'I','id':i,'price':price} # generate a monotonically increasing timestamp elsewhere and append at the end\n",
    "    dictE = {'flag':'E','id':i,'price':''}\n",
    "    \n",
    "    rand_indexI = np.random.randint(0,len(rows_list)+1) # generate a random index for inserts (in the range of the current number of rows)\n",
    "    rand_indexE = np.random.randint(rand_indexI+1,len(rows_list)+2) # generate a random index for erasures that is always greater then rand_indexI\n",
    "#     print rand_indexI < rand_indexE, rand_indexI, rand_indexE\n",
    "    rows_list.insert(rand_indexI, dictI)\n",
    "    rows_list.insert(rand_indexE, dictE)\n",
    "    for i in range(2):\n",
    "        timestamp = timestamp + np.random.randint(0,5000)\n",
    "        timestamp_list.append(timestamp)\n",
    "\n",
    "df = pd.DataFrame(rows_list)\n",
    "df['timestamp'] = timestamp_list\n",
    "# reorder columns\n",
    "cols = ['timestamp','flag','id','price']\n",
    "df = df[cols]"
   ]
  },
  {
   "cell_type": "code",
   "execution_count": null,
   "metadata": {
    "collapsed": true
   },
   "outputs": [],
   "source": []
  }
 ],
 "metadata": {
  "kernelspec": {
   "display_name": "Python 2",
   "language": "python",
   "name": "python2"
  },
  "language_info": {
   "codemirror_mode": {
    "name": "ipython",
    "version": 2
   },
   "file_extension": ".py",
   "mimetype": "text/x-python",
   "name": "python",
   "nbconvert_exporter": "python",
   "pygments_lexer": "ipython2",
   "version": "2.7.6"
  }
 },
 "nbformat": 4,
 "nbformat_minor": 0
}
